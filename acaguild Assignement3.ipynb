{
 "cells": [
  {
   "cell_type": "code",
   "execution_count": 1,
   "metadata": {},
   "outputs": [
    {
     "name": "stdout",
     "output_type": "stream",
     "text": [
      "The filtered letters are:\n",
      "e\n",
      "e\n"
     ]
    }
   ],
   "source": [
    "#Write a python programme to implement your own myfilter()function\n",
    "# function that filters vowels\n",
    "\n",
    "# function that filters vowels\n",
    "def fun(variable):\n",
    "    letters = ['a', 'e', 'i', 'o', 'u']\n",
    "    if (variable in letters):\n",
    "        return True\n",
    "    else:\n",
    "        return False\n",
    " \n",
    " \n",
    "# sequence\n",
    "sequence = ['g', 'e', 'e', 'j', 'k', 's', 'p', 'r']\n",
    " \n",
    "# using filter function\n",
    "filtered = filter(fun, sequence)\n",
    " \n",
    "print('The filtered letters are:')\n",
    "for s in filtered:\n",
    "    print(s)"
   ]
  },
  {
   "cell_type": "code",
   "execution_count": 2,
   "metadata": {},
   "outputs": [
    {
     "name": "stdout",
     "output_type": "stream",
     "text": [
      "['A', 'C', 'A', 'G', 'U', 'I', 'L', 'D']\n"
     ]
    }
   ],
   "source": [
    "# Implement list comprehensions \n",
    "\n",
    "\n",
    "ACAGUILD_letters = [letter for letter in 'ACAGUILD']\n",
    "print(ACAGUILD_letters)"
   ]
  },
  {
   "cell_type": "code",
   "execution_count": 3,
   "metadata": {},
   "outputs": [
    {
     "data": {
      "text/plain": [
       "[(1, 1), (1, 3), (3, 1), (3, 3), (2, 1), (1, 1), (1, 3), (3, 1), (3, 3)]"
      ]
     },
     "execution_count": 3,
     "metadata": {},
     "output_type": "execute_result"
    }
   ],
   "source": [
    "# Implement list comprehensions\n",
    "\n",
    "result = []\n",
    "\n",
    "for x in range (5):\n",
    "    if x%2 == 1:\n",
    "        for y in range(4):\n",
    "            if y% 2 == 1:\n",
    "                result.append((x,y))\n",
    "result  \n",
    "for x in range (1,3):\n",
    "    if x%2 == 0:\n",
    "        for y in range(1,3):\n",
    "            if y% 2 == 1:\n",
    "                result.append((x,y))\n",
    "result  \n",
    "for x in range (5):\n",
    "    if x%2 == 1:\n",
    "        for y in range(4):\n",
    "            if y% 2 == 1:\n",
    "                result.append((x,y))\n",
    "result                "
   ]
  },
  {
   "cell_type": "code",
   "execution_count": 56,
   "metadata": {},
   "outputs": [
    {
     "name": "stdout",
     "output_type": "stream",
     "text": [
      "[[2, 3, 4, 5], [3, 4, 5, 6]] [[4, 5, 6, 7], [5, 6, 7, 8]]\n"
     ]
    },
    {
     "data": {
      "text/plain": [
       "[2, 3, 3, 4, 4, 5, 5, 6]"
      ]
     },
     "execution_count": 56,
     "metadata": {},
     "output_type": "execute_result"
    }
   ],
   "source": [
    "# Implement list comprehensions\n",
    "\n",
    "matrix = [[2, 3],[3,4],[4,5],[5,6]]\n",
    "matrix1 = [[4, 5],[5,6],[6,7],[7,8]]\n",
    "transpose = [[row[i] for row in matrix] for i in range(2)]\n",
    "transpose1 = [[row[i] for row in matrix1] for i in range(2)]\n",
    "\n",
    "print (transpose,transpose1)\n",
    "\n",
    "[num for elem in matrix for num in elem]\n",
    "\n"
   ]
  },
  {
   "cell_type": "code",
   "execution_count": null,
   "metadata": {},
   "outputs": [],
   "source": []
  },
  {
   "cell_type": "code",
   "execution_count": 5,
   "metadata": {},
   "outputs": [
    {
     "name": "stdout",
     "output_type": "stream",
     "text": [
      "[('x', 'xx', 'xxx', 'y', 'yy', 'yyy', 'z', 'zz', 'zzz')]\n"
     ]
    }
   ],
   "source": [
    "# Implement list comprehensions\n",
    "\n",
    "li = []\n",
    "for x in 'x' :\n",
    "      for y in 'y':\n",
    "        for z in 'z':\n",
    "            li.append((x,x*2,x*3,y,y*2,y*3,z,z*2,z*3))\n",
    "           \n",
    "print(li)        \n"
   ]
  },
  {
   "cell_type": "code",
   "execution_count": 6,
   "metadata": {},
   "outputs": [
    {
     "name": "stdout",
     "output_type": "stream",
     "text": [
      "[('x', 'y', 'z', 'xx', 'yy', 'zz', 'xx', 'yy', 'zz', 'xxxx', 'yyyy', 'zzzz')]\n"
     ]
    }
   ],
   "source": [
    "li = []\n",
    "for x in 'x' :\n",
    "      for y in 'y':\n",
    "        for z in 'z':\n",
    "            li.append((x,y,z,x*2,y*2,z*2,x*2,y*2,z*2,x*4,y*4,z*4))\n",
    "           \n",
    "            \n",
    "print(li)            \n",
    "                 "
   ]
  },
  {
   "cell_type": "code",
   "execution_count": 77,
   "metadata": {},
   "outputs": [
    {
     "name": "stdout",
     "output_type": "stream",
     "text": [
      "Enter the number of elements in list:4\n",
      "Enter element1:apple\n",
      "Enter element2:banan\n",
      "Enter element3:lura\n",
      "Enter element4:plt\n",
      "The word with the longest length is:\n",
      "apple\n"
     ]
    }
   ],
   "source": [
    "#Implment a function longest word that takes a list of words and return a longest one\n",
    "\n",
    "a=[]\n",
    "n= int(input(\"Enter the number of elements in list:\"))\n",
    "for x in range(0,n):\n",
    "    element=input(\"Enter element\" + str(x+1) + \":\")\n",
    "    a.append(element)\n",
    "max1=len(a[0])\n",
    "temp=a[0]\n",
    "for i in a:\n",
    "    if(len(i)>max1):\n",
    "       max1=len(i)\n",
    "       temp=i\n",
    "print(\"The word with the longest length is:\")\n",
    "print(temp)"
   ]
  },
  {
   "cell_type": "code",
   "execution_count": null,
   "metadata": {},
   "outputs": [],
   "source": []
  }
 ],
 "metadata": {
  "kernelspec": {
   "display_name": "Python 3",
   "language": "python",
   "name": "python3"
  },
  "language_info": {
   "codemirror_mode": {
    "name": "ipython",
    "version": 3
   },
   "file_extension": ".py",
   "mimetype": "text/x-python",
   "name": "python",
   "nbconvert_exporter": "python",
   "pygments_lexer": "ipython3",
   "version": "3.6.4"
  }
 },
 "nbformat": 4,
 "nbformat_minor": 2
}
